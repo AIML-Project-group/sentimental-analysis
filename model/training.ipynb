{
 "cells":[
  {
   "cell_type":"code",
   "source":[
    "import re\n",
    "import nltk\n",
    "import pandas as pd\n",
    "import seaborn as sns\n",
    "import string\n",
    "from pickle import dump, load\n",
    "\n",
    "import matplotlib.pyplot as plt\n",
    "from nltk.corpus import stopwords\n",
    "from sklearn.model_selection import GridSearchCV, KFold, train_test_split\n",
    "from sklearn.metrics import accuracy_score, auc, classification_report, confusion_matrix, f1_score, precision_recall_curve, plot_confusion_matrix, roc_auc_score, roc_curve\n",
    "from sklearn.ensemble import AdaBoostClassifier, BaggingClassifier, RandomForestClassifier\n",
    "from sklearn.feature_extraction.text import TfidfVectorizer\n",
    "from sklearn.naive_bayes import GaussianNB, MultinomialNB\n",
    "from sklearn.multiclass import OneVsRestClassifier\n",
    "from sklearn.svm import SVC\n",
    "\n",
    "nltk.download('punkt')\n",
    "nltk.download('stopwords')\n",
    "\n",
    "plt.style.use('dark_background')"
   ],
   "execution_count":1,
   "outputs":[
    {
     "name":"stderr",
     "text":[
      "[nltk_data] Downloading package punkt to \/home\/datalore\/nltk_data...\n",
      "[nltk_data]   Unzipping tokenizers\/punkt.zip.\n",
      "[nltk_data] Downloading package stopwords to\n",
      "[nltk_data]     \/home\/datalore\/nltk_data...\n",
      "[nltk_data]   Unzipping corpora\/stopwords.zip.\n"
     ],
     "output_type":"stream"
    }
   ],
   "metadata":{
    "datalore":{
     "type":"CODE",
     "hide_input_from_viewers":false,
     "hide_output_from_viewers":false
    }
   }
  },
  {
   "cell_type":"code",
   "source":[
    "df = pd.read_csv('Tweets.csv')\n",
    "df.head()"
   ],
   "execution_count":2,
   "outputs":[
    {
     "data":{
      "text\/html":[
       "<div>\n",
       "<style scoped>\n",
       "    .dataframe tbody tr th:only-of-type {\n",
       "        vertical-align: middle;\n",
       "    }\n",
       "\n",
       "    .dataframe tbody tr th {\n",
       "        vertical-align: top;\n",
       "    }\n",
       "\n",
       "    .dataframe thead th {\n",
       "        text-align: right;\n",
       "    }\n",
       "<\/style>\n",
       "<table border=\"1\" class=\"dataframe\">\n",
       "  <thead>\n",
       "    <tr style=\"text-align: right;\">\n",
       "      <th><\/th>\n",
       "      <th>tweet_id<\/th>\n",
       "      <th>airline_sentiment<\/th>\n",
       "      <th>airline_sentiment_confidence<\/th>\n",
       "      <th>negativereason<\/th>\n",
       "      <th>negativereason_confidence<\/th>\n",
       "      <th>airline<\/th>\n",
       "      <th>airline_sentiment_gold<\/th>\n",
       "      <th>name<\/th>\n",
       "      <th>negativereason_gold<\/th>\n",
       "      <th>retweet_count<\/th>\n",
       "      <th>text<\/th>\n",
       "      <th>tweet_coord<\/th>\n",
       "      <th>tweet_created<\/th>\n",
       "      <th>tweet_location<\/th>\n",
       "      <th>user_timezone<\/th>\n",
       "    <\/tr>\n",
       "  <\/thead>\n",
       "  <tbody>\n",
       "    <tr>\n",
       "      <th>0<\/th>\n",
       "      <td>570306133677760513<\/td>\n",
       "      <td>neutral<\/td>\n",
       "      <td>1.0000<\/td>\n",
       "      <td>NaN<\/td>\n",
       "      <td>NaN<\/td>\n",
       "      <td>Virgin America<\/td>\n",
       "      <td>NaN<\/td>\n",
       "      <td>cairdin<\/td>\n",
       "      <td>NaN<\/td>\n",
       "      <td>0<\/td>\n",
       "      <td>@VirginAmerica What @dhepburn said.<\/td>\n",
       "      <td>NaN<\/td>\n",
       "      <td>2015-02-24 11:35:52 -0800<\/td>\n",
       "      <td>NaN<\/td>\n",
       "      <td>Eastern Time (US &amp; Canada)<\/td>\n",
       "    <\/tr>\n",
       "    <tr>\n",
       "      <th>1<\/th>\n",
       "      <td>570301130888122368<\/td>\n",
       "      <td>positive<\/td>\n",
       "      <td>0.3486<\/td>\n",
       "      <td>NaN<\/td>\n",
       "      <td>0.0000<\/td>\n",
       "      <td>Virgin America<\/td>\n",
       "      <td>NaN<\/td>\n",
       "      <td>jnardino<\/td>\n",
       "      <td>NaN<\/td>\n",
       "      <td>0<\/td>\n",
       "      <td>@VirginAmerica plus you've added commercials t...<\/td>\n",
       "      <td>NaN<\/td>\n",
       "      <td>2015-02-24 11:15:59 -0800<\/td>\n",
       "      <td>NaN<\/td>\n",
       "      <td>Pacific Time (US &amp; Canada)<\/td>\n",
       "    <\/tr>\n",
       "    <tr>\n",
       "      <th>2<\/th>\n",
       "      <td>570301083672813571<\/td>\n",
       "      <td>neutral<\/td>\n",
       "      <td>0.6837<\/td>\n",
       "      <td>NaN<\/td>\n",
       "      <td>NaN<\/td>\n",
       "      <td>Virgin America<\/td>\n",
       "      <td>NaN<\/td>\n",
       "      <td>yvonnalynn<\/td>\n",
       "      <td>NaN<\/td>\n",
       "      <td>0<\/td>\n",
       "      <td>@VirginAmerica I didn't today... Must mean I n...<\/td>\n",
       "      <td>NaN<\/td>\n",
       "      <td>2015-02-24 11:15:48 -0800<\/td>\n",
       "      <td>Lets Play<\/td>\n",
       "      <td>Central Time (US &amp; Canada)<\/td>\n",
       "    <\/tr>\n",
       "    <tr>\n",
       "      <th>3<\/th>\n",
       "      <td>570301031407624196<\/td>\n",
       "      <td>negative<\/td>\n",
       "      <td>1.0000<\/td>\n",
       "      <td>Bad Flight<\/td>\n",
       "      <td>0.7033<\/td>\n",
       "      <td>Virgin America<\/td>\n",
       "      <td>NaN<\/td>\n",
       "      <td>jnardino<\/td>\n",
       "      <td>NaN<\/td>\n",
       "      <td>0<\/td>\n",
       "      <td>@VirginAmerica it's really aggressive to blast...<\/td>\n",
       "      <td>NaN<\/td>\n",
       "      <td>2015-02-24 11:15:36 -0800<\/td>\n",
       "      <td>NaN<\/td>\n",
       "      <td>Pacific Time (US &amp; Canada)<\/td>\n",
       "    <\/tr>\n",
       "    <tr>\n",
       "      <th>4<\/th>\n",
       "      <td>570300817074462722<\/td>\n",
       "      <td>negative<\/td>\n",
       "      <td>1.0000<\/td>\n",
       "      <td>Can't Tell<\/td>\n",
       "      <td>1.0000<\/td>\n",
       "      <td>Virgin America<\/td>\n",
       "      <td>NaN<\/td>\n",
       "      <td>jnardino<\/td>\n",
       "      <td>NaN<\/td>\n",
       "      <td>0<\/td>\n",
       "      <td>@VirginAmerica and it's a really big bad thing...<\/td>\n",
       "      <td>NaN<\/td>\n",
       "      <td>2015-02-24 11:14:45 -0800<\/td>\n",
       "      <td>NaN<\/td>\n",
       "      <td>Pacific Time (US &amp; Canada)<\/td>\n",
       "    <\/tr>\n",
       "  <\/tbody>\n",
       "<\/table>\n",
       "<\/div>"
      ]
     },
     "metadata":{
      
     },
     "output_type":"display_data"
    }
   ],
   "metadata":{
    "datalore":{
     "type":"CODE",
     "hide_input_from_viewers":false,
     "hide_output_from_viewers":false
    }
   }
  },
  {
   "cell_type":"code",
   "source":[
    "sns.countplot(x='airline_sentiment', data=df)"
   ],
   "execution_count":3,
   "outputs":[
    {
     "data":{
      "text\/plain":[
       "<AxesSubplot:xlabel='airline_sentiment', ylabel='count'>"
      ],
      "image\/png":"[encoded data removed]"
     },
     "metadata":{
      "image\/png":{
       
      }
     },
     "output_type":"display_data"
    }
   ],
   "metadata":{
    "datalore":{
     "type":"CODE",
     "hide_input_from_viewers":false,
     "hide_output_from_viewers":false
    }
   }
  },
  {
   "cell_type":"code",
   "source":[
    "sns.countplot(x='airline', data=df)"
   ],
   "execution_count":4,
   "outputs":[
    {
     "data":{
      "text\/plain":[
       "<AxesSubplot:xlabel='airline', ylabel='count'>"
      ],
      "image\/png":"[encoded data removed]"
     },
     "metadata":{
      "image\/png":{
       
      }
     },
     "output_type":"display_data"
    }
   ],
   "metadata":{
    "datalore":{
     "type":"CODE",
     "hide_input_from_viewers":false,
     "hide_output_from_viewers":false
    }
   }
  },
  {
   "cell_type":"code",
   "source":[
    "def clean_tweet(text):\n",
    "  tokens = nltk.word_tokenize(re.sub(r'[^a-zA-Z]', ' ', text))\n",
    "  tokens = [word.lower() for word in tokens]\n",
    "  # return ' '.join(tokens[:2])\n",
    "  return ' '.join(tokens)"
   ],
   "execution_count":5,
   "outputs":[
    
   ],
   "metadata":{
    "datalore":{
     "type":"CODE",
     "hide_input_from_viewers":false,
     "hide_output_from_viewers":false
    }
   }
  },
  {
   "cell_type":"code",
   "source":[
    "def process_text(text):\n",
    "  without_punc = ''.join(char for char in text if char not in string.punctuation)\n",
    "  return ' '.join(word for word in without_punc.split() if word.lower() not in stopwords.words('english'))"
   ],
   "execution_count":6,
   "outputs":[
    
   ],
   "metadata":{
    "datalore":{
     "type":"CODE",
     "hide_input_from_viewers":false,
     "hide_output_from_viewers":false
    }
   }
  },
  {
   "cell_type":"code",
   "source":[
    "def check_scores(clf_model, x_tr, x_t, y_tr, y_t):\n",
    "  model = clf_model.fit(x_tr, y_tr)\n",
    "  predicted_classes = model.predict(x_t)\n",
    "  predicted_classes_train = model.predict(x_tr)\n",
    "  \n",
    "  print('Train confusion matrix: ')\n",
    "  print(confusion_matrix(y_tr, predicted_classes_train))\n",
    "  print()\n",
    "\n",
    "  print('Test confusion matrix: ')\n",
    "  print(confusion_matrix(y_t, predicted_classes))\n",
    "  print()\n",
    "\n",
    "  tr_accuracy = accuracy_score(y_tr, predicted_classes_train)\n",
    "  t_accuracy = accuracy_score(y_t, predicted_classes)\n",
    "\n",
    "  print('Accuracy score: ')\n",
    "  print(f'\\tTrain: {tr_accuracy}')\n",
    "  print(f'\\tTest: {t_accuracy}')\n",
    "\n",
    "  return tr_accuracy, t_accuracy"
   ],
   "execution_count":7,
   "outputs":[
    
   ],
   "metadata":{
    "datalore":{
     "type":"CODE",
     "hide_input_from_viewers":false,
     "hide_output_from_viewers":false
    }
   }
  },
  {
   "cell_type":"code",
   "source":[
    "def grid_search(clf_model, parameters, x_tr, y_tr):\n",
    "  grid = GridSearchCV(estimator=clf_model, param_grid=parameters, cv=2, verbose=2)\n",
    "\n",
    "  grid.fit(x_tr, y_tr)\n",
    "\n",
    "  optimal_model = grid.best_estimator_\n",
    "\n",
    "  print(f'Best parameters are {grid.best_params_}')\n",
    "  return optimal_model, grid.cv_results_"
   ],
   "execution_count":8,
   "outputs":[
    
   ],
   "metadata":{
    "datalore":{
     "type":"CODE",
     "hide_input_from_viewers":false,
     "hide_output_from_viewers":false
    }
   }
  },
  {
   "cell_type":"code",
   "source":[
    "sentiment_mappings = { 'positive': 1, 'neutral': 0, 'negative': -1 }\n",
    "df['cleaned_tweet'] = df['text'].apply(clean_tweet)\n",
    "\n",
    "df['airline_sentiment'] = df['airline_sentiment'].apply(lambda x: sentiment_mappings.get(x, x))"
   ],
   "execution_count":9,
   "outputs":[
    
   ],
   "metadata":{
    "datalore":{
     "type":"CODE",
     "hide_input_from_viewers":false,
     "hide_output_from_viewers":false
    }
   }
  },
  {
   "cell_type":"code",
   "source":[
    "df.head()"
   ],
   "execution_count":10,
   "outputs":[
    {
     "data":{
      "text\/html":[
       "<div>\n",
       "<style scoped>\n",
       "    .dataframe tbody tr th:only-of-type {\n",
       "        vertical-align: middle;\n",
       "    }\n",
       "\n",
       "    .dataframe tbody tr th {\n",
       "        vertical-align: top;\n",
       "    }\n",
       "\n",
       "    .dataframe thead th {\n",
       "        text-align: right;\n",
       "    }\n",
       "<\/style>\n",
       "<table border=\"1\" class=\"dataframe\">\n",
       "  <thead>\n",
       "    <tr style=\"text-align: right;\">\n",
       "      <th><\/th>\n",
       "      <th>tweet_id<\/th>\n",
       "      <th>airline_sentiment<\/th>\n",
       "      <th>airline_sentiment_confidence<\/th>\n",
       "      <th>negativereason<\/th>\n",
       "      <th>negativereason_confidence<\/th>\n",
       "      <th>airline<\/th>\n",
       "      <th>airline_sentiment_gold<\/th>\n",
       "      <th>name<\/th>\n",
       "      <th>negativereason_gold<\/th>\n",
       "      <th>retweet_count<\/th>\n",
       "      <th>text<\/th>\n",
       "      <th>tweet_coord<\/th>\n",
       "      <th>tweet_created<\/th>\n",
       "      <th>tweet_location<\/th>\n",
       "      <th>user_timezone<\/th>\n",
       "      <th>cleaned_tweet<\/th>\n",
       "    <\/tr>\n",
       "  <\/thead>\n",
       "  <tbody>\n",
       "    <tr>\n",
       "      <th>0<\/th>\n",
       "      <td>570306133677760513<\/td>\n",
       "      <td>0<\/td>\n",
       "      <td>1.0000<\/td>\n",
       "      <td>NaN<\/td>\n",
       "      <td>NaN<\/td>\n",
       "      <td>Virgin America<\/td>\n",
       "      <td>NaN<\/td>\n",
       "      <td>cairdin<\/td>\n",
       "      <td>NaN<\/td>\n",
       "      <td>0<\/td>\n",
       "      <td>@VirginAmerica What @dhepburn said.<\/td>\n",
       "      <td>NaN<\/td>\n",
       "      <td>2015-02-24 11:35:52 -0800<\/td>\n",
       "      <td>NaN<\/td>\n",
       "      <td>Eastern Time (US &amp; Canada)<\/td>\n",
       "      <td>virginamerica what dhepburn said<\/td>\n",
       "    <\/tr>\n",
       "    <tr>\n",
       "      <th>1<\/th>\n",
       "      <td>570301130888122368<\/td>\n",
       "      <td>1<\/td>\n",
       "      <td>0.3486<\/td>\n",
       "      <td>NaN<\/td>\n",
       "      <td>0.0000<\/td>\n",
       "      <td>Virgin America<\/td>\n",
       "      <td>NaN<\/td>\n",
       "      <td>jnardino<\/td>\n",
       "      <td>NaN<\/td>\n",
       "      <td>0<\/td>\n",
       "      <td>@VirginAmerica plus you've added commercials t...<\/td>\n",
       "      <td>NaN<\/td>\n",
       "      <td>2015-02-24 11:15:59 -0800<\/td>\n",
       "      <td>NaN<\/td>\n",
       "      <td>Pacific Time (US &amp; Canada)<\/td>\n",
       "      <td>virginamerica plus you ve added commercials to...<\/td>\n",
       "    <\/tr>\n",
       "    <tr>\n",
       "      <th>2<\/th>\n",
       "      <td>570301083672813571<\/td>\n",
       "      <td>0<\/td>\n",
       "      <td>0.6837<\/td>\n",
       "      <td>NaN<\/td>\n",
       "      <td>NaN<\/td>\n",
       "      <td>Virgin America<\/td>\n",
       "      <td>NaN<\/td>\n",
       "      <td>yvonnalynn<\/td>\n",
       "      <td>NaN<\/td>\n",
       "      <td>0<\/td>\n",
       "      <td>@VirginAmerica I didn't today... Must mean I n...<\/td>\n",
       "      <td>NaN<\/td>\n",
       "      <td>2015-02-24 11:15:48 -0800<\/td>\n",
       "      <td>Lets Play<\/td>\n",
       "      <td>Central Time (US &amp; Canada)<\/td>\n",
       "      <td>virginamerica i didn t today must mean i need ...<\/td>\n",
       "    <\/tr>\n",
       "    <tr>\n",
       "      <th>3<\/th>\n",
       "      <td>570301031407624196<\/td>\n",
       "      <td>-1<\/td>\n",
       "      <td>1.0000<\/td>\n",
       "      <td>Bad Flight<\/td>\n",
       "      <td>0.7033<\/td>\n",
       "      <td>Virgin America<\/td>\n",
       "      <td>NaN<\/td>\n",
       "      <td>jnardino<\/td>\n",
       "      <td>NaN<\/td>\n",
       "      <td>0<\/td>\n",
       "      <td>@VirginAmerica it's really aggressive to blast...<\/td>\n",
       "      <td>NaN<\/td>\n",
       "      <td>2015-02-24 11:15:36 -0800<\/td>\n",
       "      <td>NaN<\/td>\n",
       "      <td>Pacific Time (US &amp; Canada)<\/td>\n",
       "      <td>virginamerica it s really aggressive to blast ...<\/td>\n",
       "    <\/tr>\n",
       "    <tr>\n",
       "      <th>4<\/th>\n",
       "      <td>570300817074462722<\/td>\n",
       "      <td>-1<\/td>\n",
       "      <td>1.0000<\/td>\n",
       "      <td>Can't Tell<\/td>\n",
       "      <td>1.0000<\/td>\n",
       "      <td>Virgin America<\/td>\n",
       "      <td>NaN<\/td>\n",
       "      <td>jnardino<\/td>\n",
       "      <td>NaN<\/td>\n",
       "      <td>0<\/td>\n",
       "      <td>@VirginAmerica and it's a really big bad thing...<\/td>\n",
       "      <td>NaN<\/td>\n",
       "      <td>2015-02-24 11:14:45 -0800<\/td>\n",
       "      <td>NaN<\/td>\n",
       "      <td>Pacific Time (US &amp; Canada)<\/td>\n",
       "      <td>virginamerica and it s a really big bad thing ...<\/td>\n",
       "    <\/tr>\n",
       "  <\/tbody>\n",
       "<\/table>\n",
       "<\/div>"
      ]
     },
     "metadata":{
      
     },
     "output_type":"display_data"
    }
   ],
   "metadata":{
    "datalore":{
     "type":"CODE",
     "hide_input_from_viewers":false,
     "hide_output_from_viewers":false
    }
   }
  },
  {
   "cell_type":"code",
   "source":[
    "df['cleaned_tweet'] = df['cleaned_tweet'].apply(process_text)\n",
    "df.reset_index(drop=True, inplace=True)\n",
    "df.head()"
   ],
   "execution_count":11,
   "outputs":[
    {
     "data":{
      "text\/html":[
       "<div>\n",
       "<style scoped>\n",
       "    .dataframe tbody tr th:only-of-type {\n",
       "        vertical-align: middle;\n",
       "    }\n",
       "\n",
       "    .dataframe tbody tr th {\n",
       "        vertical-align: top;\n",
       "    }\n",
       "\n",
       "    .dataframe thead th {\n",
       "        text-align: right;\n",
       "    }\n",
       "<\/style>\n",
       "<table border=\"1\" class=\"dataframe\">\n",
       "  <thead>\n",
       "    <tr style=\"text-align: right;\">\n",
       "      <th><\/th>\n",
       "      <th>tweet_id<\/th>\n",
       "      <th>airline_sentiment<\/th>\n",
       "      <th>airline_sentiment_confidence<\/th>\n",
       "      <th>negativereason<\/th>\n",
       "      <th>negativereason_confidence<\/th>\n",
       "      <th>airline<\/th>\n",
       "      <th>airline_sentiment_gold<\/th>\n",
       "      <th>name<\/th>\n",
       "      <th>negativereason_gold<\/th>\n",
       "      <th>retweet_count<\/th>\n",
       "      <th>text<\/th>\n",
       "      <th>tweet_coord<\/th>\n",
       "      <th>tweet_created<\/th>\n",
       "      <th>tweet_location<\/th>\n",
       "      <th>user_timezone<\/th>\n",
       "      <th>cleaned_tweet<\/th>\n",
       "    <\/tr>\n",
       "  <\/thead>\n",
       "  <tbody>\n",
       "    <tr>\n",
       "      <th>0<\/th>\n",
       "      <td>570306133677760513<\/td>\n",
       "      <td>0<\/td>\n",
       "      <td>1.0000<\/td>\n",
       "      <td>NaN<\/td>\n",
       "      <td>NaN<\/td>\n",
       "      <td>Virgin America<\/td>\n",
       "      <td>NaN<\/td>\n",
       "      <td>cairdin<\/td>\n",
       "      <td>NaN<\/td>\n",
       "      <td>0<\/td>\n",
       "      <td>@VirginAmerica What @dhepburn said.<\/td>\n",
       "      <td>NaN<\/td>\n",
       "      <td>2015-02-24 11:35:52 -0800<\/td>\n",
       "      <td>NaN<\/td>\n",
       "      <td>Eastern Time (US &amp; Canada)<\/td>\n",
       "      <td>virginamerica dhepburn said<\/td>\n",
       "    <\/tr>\n",
       "    <tr>\n",
       "      <th>1<\/th>\n",
       "      <td>570301130888122368<\/td>\n",
       "      <td>1<\/td>\n",
       "      <td>0.3486<\/td>\n",
       "      <td>NaN<\/td>\n",
       "      <td>0.0000<\/td>\n",
       "      <td>Virgin America<\/td>\n",
       "      <td>NaN<\/td>\n",
       "      <td>jnardino<\/td>\n",
       "      <td>NaN<\/td>\n",
       "      <td>0<\/td>\n",
       "      <td>@VirginAmerica plus you've added commercials t...<\/td>\n",
       "      <td>NaN<\/td>\n",
       "      <td>2015-02-24 11:15:59 -0800<\/td>\n",
       "      <td>NaN<\/td>\n",
       "      <td>Pacific Time (US &amp; Canada)<\/td>\n",
       "      <td>virginamerica plus added commercials experienc...<\/td>\n",
       "    <\/tr>\n",
       "    <tr>\n",
       "      <th>2<\/th>\n",
       "      <td>570301083672813571<\/td>\n",
       "      <td>0<\/td>\n",
       "      <td>0.6837<\/td>\n",
       "      <td>NaN<\/td>\n",
       "      <td>NaN<\/td>\n",
       "      <td>Virgin America<\/td>\n",
       "      <td>NaN<\/td>\n",
       "      <td>yvonnalynn<\/td>\n",
       "      <td>NaN<\/td>\n",
       "      <td>0<\/td>\n",
       "      <td>@VirginAmerica I didn't today... Must mean I n...<\/td>\n",
       "      <td>NaN<\/td>\n",
       "      <td>2015-02-24 11:15:48 -0800<\/td>\n",
       "      <td>Lets Play<\/td>\n",
       "      <td>Central Time (US &amp; Canada)<\/td>\n",
       "      <td>virginamerica today must mean need take anothe...<\/td>\n",
       "    <\/tr>\n",
       "    <tr>\n",
       "      <th>3<\/th>\n",
       "      <td>570301031407624196<\/td>\n",
       "      <td>-1<\/td>\n",
       "      <td>1.0000<\/td>\n",
       "      <td>Bad Flight<\/td>\n",
       "      <td>0.7033<\/td>\n",
       "      <td>Virgin America<\/td>\n",
       "      <td>NaN<\/td>\n",
       "      <td>jnardino<\/td>\n",
       "      <td>NaN<\/td>\n",
       "      <td>0<\/td>\n",
       "      <td>@VirginAmerica it's really aggressive to blast...<\/td>\n",
       "      <td>NaN<\/td>\n",
       "      <td>2015-02-24 11:15:36 -0800<\/td>\n",
       "      <td>NaN<\/td>\n",
       "      <td>Pacific Time (US &amp; Canada)<\/td>\n",
       "      <td>virginamerica really aggressive blast obnoxiou...<\/td>\n",
       "    <\/tr>\n",
       "    <tr>\n",
       "      <th>4<\/th>\n",
       "      <td>570300817074462722<\/td>\n",
       "      <td>-1<\/td>\n",
       "      <td>1.0000<\/td>\n",
       "      <td>Can't Tell<\/td>\n",
       "      <td>1.0000<\/td>\n",
       "      <td>Virgin America<\/td>\n",
       "      <td>NaN<\/td>\n",
       "      <td>jnardino<\/td>\n",
       "      <td>NaN<\/td>\n",
       "      <td>0<\/td>\n",
       "      <td>@VirginAmerica and it's a really big bad thing...<\/td>\n",
       "      <td>NaN<\/td>\n",
       "      <td>2015-02-24 11:14:45 -0800<\/td>\n",
       "      <td>NaN<\/td>\n",
       "      <td>Pacific Time (US &amp; Canada)<\/td>\n",
       "      <td>virginamerica really big bad thing<\/td>\n",
       "    <\/tr>\n",
       "  <\/tbody>\n",
       "<\/table>\n",
       "<\/div>"
      ]
     },
     "metadata":{
      
     },
     "output_type":"display_data"
    }
   ],
   "metadata":{
    "datalore":{
     "type":"CODE",
     "hide_input_from_viewers":false,
     "hide_output_from_viewers":false
    }
   }
  },
  {
   "cell_type":"code",
   "source":[
    "vectorizer = TfidfVectorizer()\n",
    "x_tf_idf = vectorizer.fit_transform(df.cleaned_tweet)\n",
    "\n",
    "# Save vectorizer to file\n",
    "with open('vectorizer.pkl', 'wb') as f:\n",
    "  dump(vectorizer, f)"
   ],
   "execution_count":12,
   "outputs":[
    
   ],
   "metadata":{
    "datalore":{
     "type":"CODE",
     "hide_input_from_viewers":false,
     "hide_output_from_viewers":false
    }
   }
  },
  {
   "cell_type":"code",
   "source":[
    "x_train, x_test, y_train, y_test = train_test_split(x_tf_idf, df.airline_sentiment, test_size=.3, random_state=42)"
   ],
   "execution_count":13,
   "outputs":[
    
   ],
   "metadata":{
    "datalore":{
     "type":"CODE",
     "hide_input_from_viewers":false,
     "hide_output_from_viewers":false
    }
   }
  },
  {
   "cell_type":"markdown",
   "source":[
    "## SVM"
   ],
   "attachments":{
    
   },
   "metadata":{
    "datalore":{
     "type":"MD",
     "hide_input_from_viewers":false,
     "hide_output_from_viewers":false
    }
   }
  },
  {
   "cell_type":"code",
   "source":[
    "base_svm = SVC(probability=True)\n",
    "svm_model = OneVsRestClassifier(base_svm)\n",
    "train_accuracy, test_accuracy = check_scores(svm_model, x_train, x_test, y_train, y_test)"
   ],
   "execution_count":14,
   "outputs":[
    {
     "name":"stdout",
     "text":[
      "Train confusion matrix: \n",
      "[[6333   26    5]\n",
      " [ 197 1971   47]\n",
      " [  43   19 1607]]\n",
      "\n",
      "Test confusion matrix: \n",
      "[[2706   64   44]\n",
      " [ 494  335   55]\n",
      " [ 216   56  422]]\n",
      "\n",
      "Accuracy score: \n",
      "\tTrain: 0.9671155347384855\n",
      "\tTest: 0.7884790528233151\n"
     ],
     "output_type":"stream"
    }
   ],
   "metadata":{
    "datalore":{
     "type":"CODE",
     "hide_input_from_viewers":false,
     "hide_output_from_viewers":false
    }
   }
  },
  {
   "cell_type":"code",
   "source":[
    "parameters = {\n",
    "  'estimator__C': [ .1, 1.0, 10 ],\n",
    "  'estimator__gamma': [ 'scale', 'auto' ],\n",
    "  'estimator__kernel': [ 'rbf', 'sigmoid' ]\n",
    "}\n",
    "svm_optimal, results = grid_search(svm_model, parameters, x_train, y_train)"
   ],
   "execution_count":15,
   "outputs":[
    {
     "name":"stdout",
     "text":[
      "Fitting 2 folds for each of 12 candidates, totalling 24 fits\n",
      "[CV] END estimator__C=0.1, estimator__gamma=scale, estimator__kernel=rbf; total time= 1.5min\n",
      "[CV] END estimator__C=0.1, estimator__gamma=scale, estimator__kernel=rbf; total time=  44.4s\n",
      "[CV] END estimator__C=0.1, estimator__gamma=scale, estimator__kernel=sigmoid; total time= 1.5min\n",
      "[CV] END estimator__C=0.1, estimator__gamma=scale, estimator__kernel=sigmoid; total time= 1.6min\n",
      "[CV] END estimator__C=0.1, estimator__gamma=auto, estimator__kernel=rbf; total time= 1.1min\n",
      "[CV] END estimator__C=0.1, estimator__gamma=auto, estimator__kernel=rbf; total time=  27.3s\n",
      "[CV] END estimator__C=0.1, estimator__gamma=auto, estimator__kernel=sigmoid; total time=  28.1s\n",
      "[CV] END estimator__C=0.1, estimator__gamma=auto, estimator__kernel=sigmoid; total time= 1.2min\n",
      "[CV] END estimator__C=1.0, estimator__gamma=scale, estimator__kernel=rbf; total time= 2.3min\n",
      "[CV] END estimator__C=1.0, estimator__gamma=scale, estimator__kernel=rbf; total time= 1.1min\n",
      "[CV] END estimator__C=1.0, estimator__gamma=scale, estimator__kernel=sigmoid; total time=  32.9s\n",
      "[CV] END estimator__C=1.0, estimator__gamma=scale, estimator__kernel=sigmoid; total time= 1.4min\n",
      "[CV] END estimator__C=1.0, estimator__gamma=auto, estimator__kernel=rbf; total time= 1.3min\n",
      "[CV] END estimator__C=1.0, estimator__gamma=auto, estimator__kernel=rbf; total time= 1.1min\n",
      "[CV] END estimator__C=1.0, estimator__gamma=auto, estimator__kernel=sigmoid; total time=  28.4s\n",
      "[CV] END estimator__C=1.0, estimator__gamma=auto, estimator__kernel=sigmoid; total time=  28.3s\n",
      "[CV] END estimator__C=10, estimator__gamma=scale, estimator__kernel=rbf; total time= 2.4min\n",
      "[CV] END estimator__C=10, estimator__gamma=scale, estimator__kernel=rbf; total time= 1.9min\n",
      "[CV] END estimator__C=10, estimator__gamma=scale, estimator__kernel=sigmoid; total time=  44.4s\n",
      "[CV] END estimator__C=10, estimator__gamma=scale, estimator__kernel=sigmoid; total time= 1.7min\n",
      "[CV] END estimator__C=10, estimator__gamma=auto, estimator__kernel=rbf; total time= 1.5min\n",
      "[CV] END estimator__C=10, estimator__gamma=auto, estimator__kernel=rbf; total time=  59.2s\n",
      "[CV] END estimator__C=10, estimator__gamma=auto, estimator__kernel=sigmoid; total time=  31.2s\n",
      "[CV] END estimator__C=10, estimator__gamma=auto, estimator__kernel=sigmoid; total time=  49.6s\n",
      "Best parameters are {'estimator__C': 10, 'estimator__gamma': 'scale', 'estimator__kernel': 'rbf'}\n"
     ],
     "output_type":"stream"
    }
   ],
   "metadata":{
    "datalore":{
     "type":"CODE",
     "hide_input_from_viewers":false,
     "hide_output_from_viewers":false
    }
   }
  },
  {
   "cell_type":"code",
   "source":[
    "svm_train_accuracy, svm_test_accuracy = check_scores(svm_model, x_train, x_test, y_train, y_test)"
   ],
   "execution_count":16,
   "outputs":[
    {
     "name":"stdout",
     "text":[
      "Train confusion matrix: \n",
      "[[6333   26    5]\n",
      " [ 197 1971   47]\n",
      " [  43   19 1607]]\n",
      "\n",
      "Test confusion matrix: \n",
      "[[2706   64   44]\n",
      " [ 494  335   55]\n",
      " [ 216   56  422]]\n",
      "\n",
      "Accuracy score: \n",
      "\tTrain: 0.9671155347384855\n",
      "\tTest: 0.7884790528233151\n"
     ],
     "output_type":"stream"
    }
   ],
   "metadata":{
    "datalore":{
     "type":"CODE",
     "hide_input_from_viewers":false,
     "hide_output_from_viewers":false
    }
   }
  },
  {
   "cell_type":"code",
   "source":[
    "svm_optimal_train_accuracy, svm_optimal_test_accuracy = check_scores(svm_optimal, x_train, x_test, y_train, y_test)"
   ],
   "execution_count":17,
   "outputs":[
    {
     "name":"stdout",
     "text":[
      "Train confusion matrix: \n",
      "[[6355    9    0]\n",
      " [   4 2190   21]\n",
      " [   2    6 1661]]\n",
      "\n",
      "Test confusion matrix: \n",
      "[[2621  140   53]\n",
      " [ 400  424   60]\n",
      " [ 179   72  443]]\n",
      "\n",
      "Accuracy score: \n",
      "\tTrain: 0.9959016393442623\n",
      "\tTest: 0.7941712204007286\n"
     ],
     "output_type":"stream"
    }
   ],
   "metadata":{
    "datalore":{
     "type":"CODE",
     "hide_input_from_viewers":false,
     "hide_output_from_viewers":false
    }
   }
  },
  {
   "cell_type":"markdown",
   "source":[
    "## Naive Bayes"
   ],
   "attachments":{
    
   },
   "metadata":{
    "datalore":{
     "type":"MD",
     "hide_input_from_viewers":false,
     "hide_output_from_viewers":false
    }
   }
  },
  {
   "cell_type":"code",
   "source":[
    "multinomial_model = MultinomialNB()\n",
    "gaussian_model = GaussianNB()"
   ],
   "execution_count":18,
   "outputs":[
    
   ],
   "metadata":{
    "datalore":{
     "type":"CODE",
     "hide_input_from_viewers":false,
     "hide_output_from_viewers":false
    }
   }
  },
  {
   "cell_type":"code",
   "source":[
    "multinomial_train_accuracy, multinomial_test_accuracy = check_scores(multinomial_model, x_train, x_test, y_train, y_test)"
   ],
   "execution_count":19,
   "outputs":[
    {
     "name":"stdout",
     "text":[
      "Train confusion matrix: \n",
      "[[6344   20    0]\n",
      " [1591  599   25]\n",
      " [1206   43  420]]\n",
      "\n",
      "Test confusion matrix: \n",
      "[[2797   16    1]\n",
      " [ 729  146    9]\n",
      " [ 552   27  115]]\n",
      "\n",
      "Accuracy score: \n",
      "\tTrain: 0.7184816549570648\n",
      "\tTest: 0.6962659380692168\n"
     ],
     "output_type":"stream"
    }
   ],
   "metadata":{
    "datalore":{
     "type":"CODE",
     "hide_input_from_viewers":false,
     "hide_output_from_viewers":false
    }
   }
  },
  {
   "cell_type":"code",
   "source":[
    "gaussian_train_accuracy, gaussian_test_accuracy = check_scores(gaussian_model, x_train.toarray(), x_test.toarray(), y_train, y_test)"
   ],
   "execution_count":20,
   "outputs":[
    {
     "name":"stdout",
     "text":[
      "Train confusion matrix: \n",
      "[[4560  699 1105]\n",
      " [   0 1596  619]\n",
      " [   0    0 1669]]\n",
      "\n",
      "Test confusion matrix: \n",
      "[[1480  550  784]\n",
      " [ 216  291  377]\n",
      " [ 153   98  443]]\n",
      "\n",
      "Accuracy score: \n",
      "\tTrain: 0.7635636221701796\n",
      "\tTest: 0.5040983606557377\n"
     ],
     "output_type":"stream"
    }
   ],
   "metadata":{
    "datalore":{
     "type":"CODE",
     "hide_input_from_viewers":false,
     "hide_output_from_viewers":false
    }
   }
  },
  {
   "cell_type":"markdown",
   "source":[
    "## Adaboost Classfier"
   ],
   "attachments":{
    
   },
   "metadata":{
    "datalore":{
     "type":"MD",
     "hide_input_from_viewers":false,
     "hide_output_from_viewers":false
    }
   }
  },
  {
   "cell_type":"code",
   "source":[
    "ada_model = AdaBoostClassifier()"
   ],
   "execution_count":21,
   "outputs":[
    
   ],
   "metadata":{
    "datalore":{
     "type":"CODE",
     "hide_input_from_viewers":false,
     "hide_output_from_viewers":false
    }
   }
  },
  {
   "cell_type":"code",
   "source":[
    "ada_train_accuracy, ada_test_accuracy = check_scores(ada_model, x_train, x_test, y_train, y_test)"
   ],
   "execution_count":22,
   "outputs":[
    {
     "name":"stdout",
     "text":[
      "Train confusion matrix: \n",
      "[[5921  234  209]\n",
      " [1553  466  196]\n",
      " [ 577  117  975]]\n",
      "\n",
      "Test confusion matrix: \n",
      "[[2608  112   94]\n",
      " [ 629  183   72]\n",
      " [ 248   38  408]]\n",
      "\n",
      "Accuracy score: \n",
      "\tTrain: 0.718384074941452\n",
      "\tTest: 0.7283697632058288\n"
     ],
     "output_type":"stream"
    }
   ],
   "metadata":{
    "datalore":{
     "type":"CODE",
     "hide_input_from_viewers":false,
     "hide_output_from_viewers":false
    }
   }
  },
  {
   "cell_type":"code",
   "source":[
    "params = {\n",
    "    'n_estimators': [10, 50, 100, 500],\n",
    "    'learning_rate': [0.0001, 0.001, 0.01, 0.1, 1.0],\n",
    "    'algorithm': ['SAMME', 'SAMME.R']\n",
    "}\n",
    "\n",
    "ada_optimal_model = grid_search(ada_model, params,x_train, y_train)"
   ],
   "execution_count":24,
   "outputs":[
    {
     "name":"stdout",
     "text":[
      "Fitting 2 folds for each of 40 candidates, totalling 80 fits\n",
      "[CV] END algorithm=SAMME, learning_rate=0.0001, n_estimators=10; total time=   1.0s\n",
      "[CV] END algorithm=SAMME, learning_rate=0.0001, n_estimators=10; total time=   1.0s\n",
      "[CV] END algorithm=SAMME, learning_rate=0.0001, n_estimators=50; total time=   4.8s\n",
      "[CV] END algorithm=SAMME, learning_rate=0.0001, n_estimators=50; total time=   4.6s\n",
      "[CV] END algorithm=SAMME, learning_rate=0.0001, n_estimators=100; total time=   9.4s\n",
      "[CV] END algorithm=SAMME, learning_rate=0.0001, n_estimators=100; total time=   9.1s\n",
      "[CV] END algorithm=SAMME, learning_rate=0.0001, n_estimators=500; total time= 1.0min\n",
      "[CV] END algorithm=SAMME, learning_rate=0.0001, n_estimators=500; total time=  46.2s\n",
      "[CV] END algorithm=SAMME, learning_rate=0.001, n_estimators=10; total time=   1.0s\n",
      "[CV] END algorithm=SAMME, learning_rate=0.001, n_estimators=10; total time=   0.9s\n",
      "[CV] END algorithm=SAMME, learning_rate=0.001, n_estimators=50; total time=   4.7s\n",
      "[CV] END algorithm=SAMME, learning_rate=0.001, n_estimators=50; total time=   4.6s\n",
      "[CV] END algorithm=SAMME, learning_rate=0.001, n_estimators=100; total time=   9.4s\n",
      "[CV] END algorithm=SAMME, learning_rate=0.001, n_estimators=100; total time=   9.1s\n",
      "[CV] END algorithm=SAMME, learning_rate=0.001, n_estimators=500; total time=  23.6s\n",
      "[CV] END algorithm=SAMME, learning_rate=0.001, n_estimators=500; total time=  16.4s\n",
      "[CV] END algorithm=SAMME, learning_rate=0.01, n_estimators=10; total time=   0.3s\n",
      "[CV] END algorithm=SAMME, learning_rate=0.01, n_estimators=10; total time=   0.3s\n",
      "[CV] END algorithm=SAMME, learning_rate=0.01, n_estimators=50; total time=   1.7s\n",
      "[CV] END algorithm=SAMME, learning_rate=0.01, n_estimators=50; total time=   1.6s\n",
      "[CV] END algorithm=SAMME, learning_rate=0.01, n_estimators=100; total time=   3.3s\n",
      "[CV] END algorithm=SAMME, learning_rate=0.01, n_estimators=100; total time=   3.3s\n",
      "[CV] END algorithm=SAMME, learning_rate=0.01, n_estimators=500; total time=  16.7s\n",
      "[CV] END algorithm=SAMME, learning_rate=0.01, n_estimators=500; total time=  23.9s\n",
      "[CV] END algorithm=SAMME, learning_rate=0.1, n_estimators=10; total time=   1.0s\n",
      "[CV] END algorithm=SAMME, learning_rate=0.1, n_estimators=10; total time=   1.0s\n",
      "[CV] END algorithm=SAMME, learning_rate=0.1, n_estimators=50; total time=   4.8s\n",
      "[CV] END algorithm=SAMME, learning_rate=0.1, n_estimators=50; total time=   4.6s\n",
      "[CV] END algorithm=SAMME, learning_rate=0.1, n_estimators=100; total time=   9.6s\n",
      "[CV] END algorithm=SAMME, learning_rate=0.1, n_estimators=100; total time=   9.3s\n",
      "[CV] END algorithm=SAMME, learning_rate=0.1, n_estimators=500; total time=  47.5s\n",
      "[CV] END algorithm=SAMME, learning_rate=0.1, n_estimators=500; total time=  46.4s\n",
      "[CV] END algorithm=SAMME, learning_rate=1.0, n_estimators=10; total time=   1.0s\n",
      "[CV] END algorithm=SAMME, learning_rate=1.0, n_estimators=10; total time=   1.0s\n",
      "[CV] END algorithm=SAMME, learning_rate=1.0, n_estimators=50; total time=   4.7s\n",
      "[CV] END algorithm=SAMME, learning_rate=1.0, n_estimators=50; total time=   4.6s\n",
      "[CV] END algorithm=SAMME, learning_rate=1.0, n_estimators=100; total time=   9.5s\n",
      "[CV] END algorithm=SAMME, learning_rate=1.0, n_estimators=100; total time=   9.5s\n",
      "[CV] END algorithm=SAMME, learning_rate=1.0, n_estimators=500; total time=  47.4s\n",
      "[CV] END algorithm=SAMME, learning_rate=1.0, n_estimators=500; total time=  27.8s\n",
      "[CV] END algorithm=SAMME.R, learning_rate=0.0001, n_estimators=10; total time=   0.3s\n",
      "[CV] END algorithm=SAMME.R, learning_rate=0.0001, n_estimators=10; total time=   0.3s\n",
      "[CV] END algorithm=SAMME.R, learning_rate=0.0001, n_estimators=50; total time=   1.7s\n",
      "[CV] END algorithm=SAMME.R, learning_rate=0.0001, n_estimators=50; total time=   1.7s\n",
      "[CV] END algorithm=SAMME.R, learning_rate=0.0001, n_estimators=100; total time=   3.5s\n",
      "[CV] END algorithm=SAMME.R, learning_rate=0.0001, n_estimators=100; total time=   3.4s\n",
      "[CV] END algorithm=SAMME.R, learning_rate=0.0001, n_estimators=500; total time=  17.4s\n",
      "[CV] END algorithm=SAMME.R, learning_rate=0.0001, n_estimators=500; total time=  17.0s\n",
      "[CV] END algorithm=SAMME.R, learning_rate=0.001, n_estimators=10; total time=   0.4s\n",
      "[CV] END algorithm=SAMME.R, learning_rate=0.001, n_estimators=10; total time=   0.3s\n",
      "[CV] END algorithm=SAMME.R, learning_rate=0.001, n_estimators=50; total time=   1.7s\n",
      "[CV] END algorithm=SAMME.R, learning_rate=0.001, n_estimators=50; total time=   1.7s\n",
      "[CV] END algorithm=SAMME.R, learning_rate=0.001, n_estimators=100; total time=   3.5s\n",
      "[CV] END algorithm=SAMME.R, learning_rate=0.001, n_estimators=100; total time=   3.6s\n",
      "[CV] END algorithm=SAMME.R, learning_rate=0.001, n_estimators=500; total time=  44.5s\n",
      "[CV] END algorithm=SAMME.R, learning_rate=0.001, n_estimators=500; total time= 1.6min\n",
      "[CV] END algorithm=SAMME.R, learning_rate=0.01, n_estimators=10; total time=   3.2s\n",
      "[CV] END algorithm=SAMME.R, learning_rate=0.01, n_estimators=10; total time=   3.2s\n",
      "[CV] END algorithm=SAMME.R, learning_rate=0.01, n_estimators=50; total time=   8.4s\n",
      "[CV] END algorithm=SAMME.R, learning_rate=0.01, n_estimators=50; total time=   8.9s\n",
      "[CV] END algorithm=SAMME.R, learning_rate=0.01, n_estimators=100; total time=  18.8s\n",
      "[CV] END algorithm=SAMME.R, learning_rate=0.01, n_estimators=100; total time=  29.4s\n",
      "[CV] END algorithm=SAMME.R, learning_rate=0.01, n_estimators=500; total time=  37.8s\n",
      "[CV] END algorithm=SAMME.R, learning_rate=0.01, n_estimators=500; total time=  18.4s\n",
      "[CV] END algorithm=SAMME.R, learning_rate=0.1, n_estimators=10; total time=   0.3s\n",
      "[CV] END algorithm=SAMME.R, learning_rate=0.1, n_estimators=10; total time=   0.3s\n",
      "[CV] END algorithm=SAMME.R, learning_rate=0.1, n_estimators=50; total time=   1.7s\n",
      "[CV] END algorithm=SAMME.R, learning_rate=0.1, n_estimators=50; total time=   1.7s\n",
      "[CV] END algorithm=SAMME.R, learning_rate=0.1, n_estimators=100; total time=   3.5s\n",
      "[CV] END algorithm=SAMME.R, learning_rate=0.1, n_estimators=100; total time=   3.4s\n",
      "[CV] END algorithm=SAMME.R, learning_rate=0.1, n_estimators=500; total time=  41.4s\n",
      "[CV] END algorithm=SAMME.R, learning_rate=0.1, n_estimators=500; total time=  48.2s\n",
      "[CV] END algorithm=SAMME.R, learning_rate=1.0, n_estimators=10; total time=   1.0s\n",
      "[CV] END algorithm=SAMME.R, learning_rate=1.0, n_estimators=10; total time=   1.0s\n",
      "[CV] END algorithm=SAMME.R, learning_rate=1.0, n_estimators=50; total time=   4.9s\n",
      "[CV] END algorithm=SAMME.R, learning_rate=1.0, n_estimators=50; total time=   4.8s\n",
      "[CV] END algorithm=SAMME.R, learning_rate=1.0, n_estimators=100; total time=   9.7s\n",
      "[CV] END algorithm=SAMME.R, learning_rate=1.0, n_estimators=100; total time=   9.6s\n",
      "[CV] END algorithm=SAMME.R, learning_rate=1.0, n_estimators=500; total time= 2.0min\n",
      "[CV] END algorithm=SAMME.R, learning_rate=1.0, n_estimators=500; total time=  32.4s\n",
      "Best parameters are {'algorithm': 'SAMME.R', 'learning_rate': 0.1, 'n_estimators': 500}\n"
     ],
     "output_type":"stream"
    }
   ],
   "metadata":{
    "datalore":{
     "type":"CODE",
     "hide_input_from_viewers":false,
     "hide_output_from_viewers":false
    }
   }
  },
  {
   "cell_type":"code",
   "source":[
    "ada_optimal_train_accuracy, ada_optimal_test_accuracy = check_scores(ada_optimal_model[0], x_train, x_test, y_train, y_test)"
   ],
   "execution_count":27,
   "outputs":[
    {
     "name":"stdout",
     "text":[
      "Train confusion matrix: \n",
      "[[6148  112  104]\n",
      " [1643  446  126]\n",
      " [ 685  122  862]]\n",
      "\n",
      "Test confusion matrix: \n",
      "[[2715   53   46]\n",
      " [ 677  163   44]\n",
      " [ 285   56  353]]\n",
      "\n",
      "Accuracy score: \n",
      "\tTrain: 0.7275565964090555\n",
      "\tTest: 0.735655737704918\n"
     ],
     "output_type":"stream"
    }
   ],
   "metadata":{
    "datalore":{
     "type":"CODE",
     "hide_input_from_viewers":false,
     "hide_output_from_viewers":false
    }
   }
  },
  {
   "cell_type":"markdown",
   "source":[
    "## Bagging Classifier"
   ],
   "attachments":{
    
   },
   "metadata":{
    "datalore":{
     "type":"MD",
     "hide_input_from_viewers":false,
     "hide_output_from_viewers":false
    }
   }
  },
  {
   "cell_type":"code",
   "source":[
    "bagging_model = BaggingClassifier(base_estimator=multinomial_model, n_estimators=100)"
   ],
   "execution_count":28,
   "outputs":[
    
   ],
   "metadata":{
    "datalore":{
     "type":"CODE",
     "hide_input_from_viewers":false,
     "hide_output_from_viewers":false
    }
   }
  },
  {
   "cell_type":"code",
   "source":[
    "bagging_train_accuracy, bagging_test_accuracy = check_scores(bagging_model, x_train, x_test, y_train, y_test)"
   ],
   "execution_count":29,
   "outputs":[
    {
     "name":"stdout",
     "text":[
      "Train confusion matrix: \n",
      "[[6344   20    0]\n",
      " [1609  581   25]\n",
      " [1210   46  413]]\n",
      "\n",
      "Test confusion matrix: \n",
      "[[2796   18    0]\n",
      " [ 731  143   10]\n",
      " [ 553   24  117]]\n",
      "\n",
      "Accuracy score: \n",
      "\tTrain: 0.7160421545667447\n",
      "\tTest: 0.6958105646630237\n"
     ],
     "output_type":"stream"
    }
   ],
   "metadata":{
    "datalore":{
     "type":"CODE",
     "hide_input_from_viewers":false,
     "hide_output_from_viewers":false
    }
   }
  },
  {
   "cell_type":"markdown",
   "source":[
    "## Random Forest Classifier"
   ],
   "attachments":{
    
   },
   "metadata":{
    "datalore":{
     "type":"MD",
     "hide_input_from_viewers":false,
     "hide_output_from_viewers":false
    }
   }
  },
  {
   "cell_type":"code",
   "source":[
    "rf_model = RandomForestClassifier()"
   ],
   "execution_count":30,
   "outputs":[
    
   ],
   "metadata":{
    "datalore":{
     "type":"CODE",
     "hide_input_from_viewers":false,
     "hide_output_from_viewers":false
    }
   }
  },
  {
   "cell_type":"code",
   "source":[
    "rf_train_accuracy, rf_test_accuracy = check_scores(rf_model, x_train, x_test, y_train, y_test)"
   ],
   "execution_count":31,
   "outputs":[
    {
     "name":"stdout",
     "text":[
      "Train confusion matrix: \n",
      "[[6355    8    1]\n",
      " [   4 2189   22]\n",
      " [   2    5 1662]]\n",
      "\n",
      "Test confusion matrix: \n",
      "[[2670  107   37]\n",
      " [ 508  322   54]\n",
      " [ 268   74  352]]\n",
      "\n",
      "Accuracy score: \n",
      "\tTrain: 0.9959016393442623\n",
      "\tTest: 0.761384335154827\n"
     ],
     "output_type":"stream"
    }
   ],
   "metadata":{
    "datalore":{
     "type":"CODE",
     "hide_input_from_viewers":false,
     "hide_output_from_viewers":false
    }
   }
  },
  {
   "cell_type":"markdown",
   "source":[
    "## Comparison "
   ],
   "attachments":{
    
   },
   "metadata":{
    "datalore":{
     "type":"MD",
     "hide_input_from_viewers":false,
     "hide_output_from_viewers":false
    }
   }
  },
  {
   "cell_type":"code",
   "source":[
    "data = [\n",
    "    ('Random Forest', rf_train_accuracy, rf_test_accuracy),\n",
    "    ('MultinomialNB', multinomial_train_accuracy, multinomial_test_accuracy),\n",
    "    ('Bagged MultinomialNB', bagging_train_accuracy, bagging_test_accuracy),\n",
    "    ('AdaBoost', ada_train_accuracy, ada_test_accuracy),\n",
    "    ('AdaBoost Optimized', ada_optimal_train_accuracy, ada_optimal_test_accuracy),\n",
    "    ('Gaussian Naive Bayes', gaussian_train_accuracy, gaussian_test_accuracy),\n",
    "    ('SVM', svm_train_accuracy, svm_test_accuracy),\n",
    "    ('SVM Optimized', svm_optimal_train_accuracy, svm_optimal_test_accuracy)\n",
    "]\n",
    "\n",
    "\n",
    "Scores_ =pd.DataFrame(data = data, columns=['Model Name','Train Accuracy', 'Test Accuracy'])\n",
    "Scores_.set_index('Model Name', inplace = True)\n",
    "\n",
    "Scores_"
   ],
   "execution_count":32,
   "outputs":[
    {
     "data":{
      "text\/html":[
       "<div>\n",
       "<style scoped>\n",
       "    .dataframe tbody tr th:only-of-type {\n",
       "        vertical-align: middle;\n",
       "    }\n",
       "\n",
       "    .dataframe tbody tr th {\n",
       "        vertical-align: top;\n",
       "    }\n",
       "\n",
       "    .dataframe thead th {\n",
       "        text-align: right;\n",
       "    }\n",
       "<\/style>\n",
       "<table border=\"1\" class=\"dataframe\">\n",
       "  <thead>\n",
       "    <tr style=\"text-align: right;\">\n",
       "      <th><\/th>\n",
       "      <th>Train Accuracy<\/th>\n",
       "      <th>Test Accuracy<\/th>\n",
       "    <\/tr>\n",
       "    <tr>\n",
       "      <th>Model Name<\/th>\n",
       "      <th><\/th>\n",
       "      <th><\/th>\n",
       "    <\/tr>\n",
       "  <\/thead>\n",
       "  <tbody>\n",
       "    <tr>\n",
       "      <th>Random Forest<\/th>\n",
       "      <td>0.995902<\/td>\n",
       "      <td>0.761384<\/td>\n",
       "    <\/tr>\n",
       "    <tr>\n",
       "      <th>MultinomialNB<\/th>\n",
       "      <td>0.718482<\/td>\n",
       "      <td>0.696266<\/td>\n",
       "    <\/tr>\n",
       "    <tr>\n",
       "      <th>Bagged MultinomialNB<\/th>\n",
       "      <td>0.716042<\/td>\n",
       "      <td>0.695811<\/td>\n",
       "    <\/tr>\n",
       "    <tr>\n",
       "      <th>AdaBoost<\/th>\n",
       "      <td>0.718384<\/td>\n",
       "      <td>0.728370<\/td>\n",
       "    <\/tr>\n",
       "    <tr>\n",
       "      <th>AdaBoost Optimized<\/th>\n",
       "      <td>0.727557<\/td>\n",
       "      <td>0.735656<\/td>\n",
       "    <\/tr>\n",
       "    <tr>\n",
       "      <th>Gaussian Naive Bayes<\/th>\n",
       "      <td>0.763564<\/td>\n",
       "      <td>0.504098<\/td>\n",
       "    <\/tr>\n",
       "    <tr>\n",
       "      <th>SVM<\/th>\n",
       "      <td>0.967116<\/td>\n",
       "      <td>0.788479<\/td>\n",
       "    <\/tr>\n",
       "    <tr>\n",
       "      <th>SVM Optimized<\/th>\n",
       "      <td>0.995902<\/td>\n",
       "      <td>0.794171<\/td>\n",
       "    <\/tr>\n",
       "  <\/tbody>\n",
       "<\/table>\n",
       "<\/div>"
      ]
     },
     "metadata":{
      
     },
     "output_type":"display_data"
    }
   ],
   "metadata":{
    "datalore":{
     "type":"CODE",
     "hide_input_from_viewers":false,
     "hide_output_from_viewers":false
    }
   }
  },
  {
   "cell_type":"code",
   "source":[
    
   ],
   "execution_count":null,
   "outputs":[
    
   ],
   "metadata":{
    "datalore":{
     "type":"CODE",
     "hide_input_from_viewers":false,
     "hide_output_from_viewers":false
    }
   }
  },
  {
   "cell_type":"code",
   "source":[
    "with open('model.pkl', 'wb') as f:\n",
    "    dump(svm_optimal, f)"
   ],
   "execution_count":33,
   "outputs":[
    
   ],
   "metadata":{
    "datalore":{
     "type":"CODE",
     "hide_input_from_viewers":false,
     "hide_output_from_viewers":false
    }
   }
  },
  {
   "cell_type":"code",
   "source":[
    
   ],
   "execution_count":null,
   "outputs":[
    
   ],
   "metadata":{
    "datalore":{
     "type":"CODE",
     "hide_input_from_viewers":false,
     "hide_output_from_viewers":false
    }
   }
  }
 ],
 "metadata":{
  "datalore":{
   "version":1,
   "computation_mode":"JUPYTER",
   "package_manager":"pip",
   "base_environment":"default",
   "packages":[
    {
     "name":"nltk",
     "version":"3.7",
     "source":"PIP"
    }
   ]
  }
 },
 "nbformat":4,
 "nbformat_minor":4
}